{
 "cells": [
  {
   "cell_type": "markdown",
   "id": "6b5121e7",
   "metadata": {},
   "source": [
    "# Data Science tools and Ecosystem"
   ]
  },
  {
   "cell_type": "markdown",
   "id": "eb1a247c",
   "metadata": {},
   "source": [
    "in this notebook, Data science Tools and Ecosystem are summarized"
   ]
  },
  {
   "cell_type": "markdown",
   "id": "1d933aa4",
   "metadata": {},
   "source": [
    "# objectives\n",
    "popular libraries for data scientists \n",
    "open source tools for data science \n",
    "commercial tools for data science "
   ]
  },
  {
   "cell_type": "markdown",
   "id": "d9f8d167",
   "metadata": {},
   "source": [
    "Some of popular languages that Data Scientists use are:\n",
    "1:Paython\n",
    "2:R\n",
    "3:Julia\n"
   ]
  },
  {
   "cell_type": "markdown",
   "id": "eda41969",
   "metadata": {},
   "source": [
    "Some of the commonly used libraries used by Data scientists include:\n",
    "1:Numpy\n",
    "2:Pandas\n",
    "3:Sikitlearn"
   ]
  },
  {
   "cell_type": "markdown",
   "id": "c0abebfe",
   "metadata": {},
   "source": [
    "| Data Science Tools |\n",
    "| JupyterLab |\n",
    "| jupyter Notbook |\n",
    "| Rstudio |\n"
   ]
  },
  {
   "cell_type": "markdown",
   "id": "e69e4a22",
   "metadata": {},
   "source": [
    "Below are a few examples of evaluating arithmetic expressions in Paython"
   ]
  },
  {
   "cell_type": "code",
   "execution_count": 2,
   "id": "be2123e9",
   "metadata": {},
   "outputs": [
    {
     "data": {
      "text/plain": [
       "17"
      ]
     },
     "execution_count": 2,
     "metadata": {},
     "output_type": "execute_result"
    }
   ],
   "source": [
    "# This a simple arithmetic expression to mutiply then add integers.\n",
    "(3*4)+5"
   ]
  },
  {
   "cell_type": "code",
   "execution_count": 5,
   "id": "e9dd3915",
   "metadata": {},
   "outputs": [
    {
     "name": "stdout",
     "output_type": "stream",
     "text": [
      "3\n"
     ]
    }
   ],
   "source": [
    "#This will convert 200 minutes to hours by diving by 60\n",
    "x = 200 \n",
    "y = x // 60\n",
    "print(y)"
   ]
  },
  {
   "cell_type": "markdown",
   "id": "ee670019",
   "metadata": {},
   "source": [
    "## Author \n",
    "khaled aladib"
   ]
  }
 ],
 "metadata": {
  "kernelspec": {
   "display_name": "Python 3 (ipykernel)",
   "language": "python",
   "name": "python3"
  },
  "language_info": {
   "codemirror_mode": {
    "name": "ipython",
    "version": 3
   },
   "file_extension": ".py",
   "mimetype": "text/x-python",
   "name": "python",
   "nbconvert_exporter": "python",
   "pygments_lexer": "ipython3",
   "version": "3.9.12"
  }
 },
 "nbformat": 4,
 "nbformat_minor": 5
}
